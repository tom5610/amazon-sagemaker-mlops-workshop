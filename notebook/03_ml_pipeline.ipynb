{
 "cells": [
  {
   "cell_type": "markdown",
   "metadata": {},
   "source": [
    "Using boto3 to do blue/gree deployment"
   ]
  },
  {
   "cell_type": "code",
   "execution_count": null,
   "metadata": {},
   "outputs": [],
   "source": [
    "import boto3\n",
    "from datetime import datetime\n",
    "\n",
    "session = boto3.Session()\n",
    "sm = session.client('sagemaker')"
   ]
  },
  {
   "cell_type": "code",
   "execution_count": null,
   "metadata": {},
   "outputs": [],
   "source": [
    "dev_endpoint_name = \"direct-marketing-endpoint-dev\"\n",
    "prd_endpoint_name = \"direct-marketing-endpoint-prd\""
   ]
  },
  {
   "cell_type": "code",
   "execution_count": null,
   "metadata": {},
   "outputs": [],
   "source": [
    "def get_endpoint_config(endpoint_name):\n",
    "    response = sm.describe_endpoint(EndpointName = endpoint_name)\n",
    "    endpoint_config_name = response['EndpointConfigName']\n",
    "    return sm.describe_endpoint_config(EndpointConfigName = endpoint_config_name)\n"
   ]
  },
  {
   "cell_type": "code",
   "execution_count": null,
   "metadata": {},
   "outputs": [],
   "source": [
    "dev_endpoint_config = get_endpoint_config(dev_endpoint_name)\n",
    "prd_endpoint_config = get_endpoint_config(prd_endpoint_name)"
   ]
  },
  {
   "cell_type": "code",
   "execution_count": null,
   "metadata": {},
   "outputs": [],
   "source": [
    "dev_model_name = dev_endpoint_config['ProductionVariants'][0]['ModelName']\n",
    "dev_model_name"
   ]
  },
  {
   "cell_type": "code",
   "execution_count": null,
   "metadata": {},
   "outputs": [],
   "source": [
    "prd_endpoint_config"
   ]
  },
  {
   "cell_type": "code",
   "execution_count": null,
   "metadata": {},
   "outputs": [],
   "source": [
    "prd_data_capture_config = prd_endpoint_config['DataCaptureConfig'] if 'DataCaptureConfig' in prd_endpoint_config else {}\n",
    "prd_model_name = prd_endpoint_config['ProductionVariants'][0]['ModelName']\n",
    "prd_model_name"
   ]
  },
  {
   "cell_type": "code",
   "execution_count": null,
   "metadata": {},
   "outputs": [],
   "source": [
    "dev_prd_in_sync = (dev_model_name == prd_model_name)"
   ]
  },
  {
   "cell_type": "code",
   "execution_count": null,
   "metadata": {},
   "outputs": [],
   "source": [
    "dev_prd_in_sync"
   ]
  },
  {
   "cell_type": "code",
   "execution_count": null,
   "metadata": {},
   "outputs": [],
   "source": [
    "suffix = datetime.now().strftime(\"%y%m%d-%H%M%S\")\n",
    "endpoint_config_name = f\"directmarketing-endpoint-config-{suffix}\""
   ]
  },
  {
   "cell_type": "code",
   "execution_count": null,
   "metadata": {},
   "outputs": [],
   "source": [
    "sm.create_endpoint_config(\n",
    "    EndpointConfigName = endpoint_config_name,\n",
    "    ProductionVariants = [\n",
    "        {\n",
    "            'VariantName': 'blue-variant',\n",
    "            'ModelName': prd_model_name,\n",
    "            'InitialInstanceCount': 1,\n",
    "            'InstanceType': 'ml.m5.large',\n",
    "            'InitialVariantWeight': 9\n",
    "        },    \n",
    "        {\n",
    "            'VariantName': 'green-variant',\n",
    "            'ModelName': dev_model_name,\n",
    "            'InitialInstanceCount': 1,\n",
    "            'InstanceType': 'ml.m5.large',\n",
    "            'InitialVariantWeight': 1\n",
    "       }\n",
    "    ]\n",
    ")"
   ]
  },
  {
   "cell_type": "code",
   "execution_count": null,
   "metadata": {},
   "outputs": [],
   "source": [
    "response = sm.update_endpoint(\n",
    "    EndpointName = prd_endpoint_name,\n",
    "    EndpointConfigName = endpoint_config_name,\n",
    "    RetainAllVariantProperties = False\n",
    ")"
   ]
  },
  {
   "cell_type": "code",
   "execution_count": null,
   "metadata": {},
   "outputs": [],
   "source": [
    "response = sm.update_endpoint_weights_and_capacities(\n",
    "    EndpointName = prd_endpoint_name,\n",
    "    DesiredWeightsAndCapacities=[\n",
    "        {\n",
    "            'VariantName': 'blue-variant',\n",
    "            'DesiredWeight': 1\n",
    "        },\n",
    "        {\n",
    "            'VariantName': 'green-variant',\n",
    "            'DesiredWeight': 9\n",
    "        }\n",
    "    ]\n",
    ")"
   ]
  },
  {
   "cell_type": "code",
   "execution_count": null,
   "metadata": {},
   "outputs": [],
   "source": [
    "response"
   ]
  },
  {
   "cell_type": "markdown",
   "metadata": {},
   "source": [
    "workflow for blue green deployment"
   ]
  },
  {
   "cell_type": "code",
   "execution_count": 1,
   "metadata": {},
   "outputs": [],
   "source": [
    "from pipeline.ml_pipeline_dependencies import *\n",
    "\n",
    "model_name = \"direct-marketing-model-training\"\n",
    "# create bucket for model training\n",
    "bucket_name = f'{model_name}-{region}-{account_id}'"
   ]
  },
  {
   "cell_type": "code",
   "execution_count": 40,
   "metadata": {},
   "outputs": [
    {
     "data": {
      "text/plain": [
       "'s3://direct-marketing-model-training-ap-southeast-2-593380422482/code/create_blue_gree_deployment_endpoint_config.zip'"
      ]
     },
     "execution_count": 40,
     "metadata": {},
     "output_type": "execute_result"
    }
   ],
   "source": [
    "# lambda function\n",
    "import zipfile\n",
    "from sagemaker.s3 import S3Uploader\n",
    "zip_name = 'create_blue_gree_deployment_endpoint_config.zip'\n",
    "lambda_source_code = './code/create_blue_gree_deployment_endpoint_config.py'\n",
    "\n",
    "zf = zipfile.ZipFile(zip_name, mode='w')\n",
    "zf.write(lambda_source_code, arcname=lambda_source_code.split('/')[-1])\n",
    "zf.close()\n",
    "S3Uploader.upload(\n",
    "    local_path = zip_name, \n",
    "    desired_s3_uri = f\"s3://{bucket_name}/code\",\n",
    "    sagemaker_session = sagemaker_session\n",
    ")"
   ]
  },
  {
   "cell_type": "code",
   "execution_count": 41,
   "metadata": {},
   "outputs": [],
   "source": [
    "lambda_client = boto3.client('lambda')\n",
    "\n",
    "lambda_function_create_blue_gree_deployment_endpoint_config = 'create_blue_gree_deployment_endpoint_config'\n",
    "response = lambda_client.create_function(\n",
    "    FunctionName = lambda_function_create_blue_gree_deployment_endpoint_config,\n",
    "    Runtime = 'python3.7',\n",
    "    Role = sagemaker_execution_role,\n",
    "    Handler = 'create_blue_gree_deployment_endpoint_config.lambda_handler',\n",
    "    Code={\n",
    "        'S3Bucket': bucket_name,\n",
    "        'S3Key': f'code/{zip_name}'\n",
    "    },\n",
    "    Description='Create Blue/Green Deployment Endpoint Config.',\n",
    "    Timeout=15,\n",
    "    MemorySize=128\n",
    ")\n"
   ]
  },
  {
   "cell_type": "code",
   "execution_count": 42,
   "metadata": {},
   "outputs": [],
   "source": [
    "def create_lambda_create_blue_gree_deployment_endpoint_config_step():\n",
    "    lambda_step = LambdaStep(\n",
    "        'Create Blue/Green Deployment Endpoint Config',\n",
    "        parameters = {  \n",
    "            \"FunctionName.$\": \"$$.Execution.Input['LambdaFunctionNameOfCreateBlueGreenDeploymentEndpointConfig']\",\n",
    "            'Payload':{\n",
    "                \"EndpointConfigName.$\": \"$$.Execution.Input['EndpointConfigName']\",\n",
    "                \"DevEndpointName.$\": \"$$.Execution.Input['DevEndpointName']\",\n",
    "                \"PrdEndpointName.$\": \"$$.Execution.Input['PrdEndpointName']\"\n",
    "            }\n",
    "        }\n",
    "    )   \n",
    "    return lambda_step"
   ]
  },
  {
   "cell_type": "code",
   "execution_count": 44,
   "metadata": {},
   "outputs": [],
   "source": [
    "def create_lambda_query_endpoint_step():\n",
    "    query_endpoint_lambda_step = LambdaStep(\n",
    "        'Query Endpoint Info',\n",
    "        parameters = {  \n",
    "            \"FunctionName.$\": \"$$.Execution.Input['LambdaFunctionNameOfQueryEndpoint']\",\n",
    "            'Payload':{\n",
    "                \"EndpointName.$\": \"$$.Execution.Input['PrdEndpointName']\"\n",
    "            }\n",
    "        }\n",
    "    )\n",
    "    return query_endpoint_lambda_step"
   ]
  },
  {
   "cell_type": "code",
   "execution_count": 27,
   "metadata": {},
   "outputs": [],
   "source": [
    "def create_endpoint_step(endpoint_name_placeholder, endpoint_config_name_placeholder, update = False):\n",
    "    endpoint_step = EndpointStep(\n",
    "        \"Update Endpoint\" if update else \"Create Endpoint\",\n",
    "        endpoint_name = endpoint_name_placeholder,\n",
    "        endpoint_config_name = endpoint_config_name_placeholder,\n",
    "        update = update\n",
    "    )\n",
    "    return endpoint_step"
   ]
  },
  {
   "cell_type": "code",
   "execution_count": 28,
   "metadata": {},
   "outputs": [],
   "source": [
    "def create_query_endpoint_deployment_lambda_step():\n",
    "    query_endpoint_deployment_lambda_step = LambdaStep(\n",
    "        'Query Endpoint Deployment Status',\n",
    "        parameters = {  \n",
    "            \"FunctionName.$\": \"$$.Execution.Input['LambdaFunctionNameOfQueryEndpoint']\",\n",
    "            'Payload':{\n",
    "                \"EndpointName.$\": \"$$.Execution.Input['PrdEndpointName']\"\n",
    "            }\n",
    "        }\n",
    "    )\n",
    "    return query_endpoint_deployment_lambda_step"
   ]
  },
  {
   "cell_type": "code",
   "execution_count": 29,
   "metadata": {},
   "outputs": [],
   "source": [
    "def create_check_endpoint_status_choice_step(\n",
    "    query_endpoint_lambda_step,\n",
    "    endpoint_update_step\n",
    "):\n",
    "    check_endpoint_status_step = Choice('Endpoint is ready for deployment?')\n",
    "\n",
    "    endpoint_in_service_rule = ChoiceRule.StringEquals(variable = query_endpoint_lambda_step.output()['Payload']['endpoint_status'], value = 'InService')\n",
    "    check_endpoint_status_step.add_choice(rule = endpoint_in_service_rule, next_step = endpoint_update_step)\n",
    "    \n",
    "    # in case endpoint is in 'failed' state, we allow it to update so as to trigger exception.\n",
    "    endpoint_failed_rule = ChoiceRule.StringEquals(variable = query_endpoint_lambda_step.output()['Payload']['endpoint_status'], value = 'Failed')\n",
    "    check_endpoint_status_step.add_choice(rule = endpoint_failed_rule, next_step = endpoint_update_step)\n",
    "\n",
    "    wait_step = Wait(state_id = f\"Wait until Endpoint is ready\", seconds = 20)\n",
    "    wait_step.next(query_endpoint_lambda_step)\n",
    "    check_endpoint_status_step.default_choice(next_step = wait_step)  \n",
    "\n",
    "    return check_endpoint_status_step  \n"
   ]
  },
  {
   "cell_type": "code",
   "execution_count": 30,
   "metadata": {},
   "outputs": [],
   "source": [
    "def create_check_endpoint_existence_choice_step(\n",
    "    query_endpoint_lambda_step,\n",
    "    check_endpoint_status_step,\n",
    "    endpoint_creation_step\n",
    "):\n",
    "    check_endpoint_existence_step = Choice('Endpoint Existed?')\n",
    "\n",
    "    endpoint_existed_rule = ChoiceRule.BooleanEquals(variable = query_endpoint_lambda_step.output()['Payload']['endpoint_existed'], value = True)\n",
    "    check_endpoint_existence_step.add_choice(rule = endpoint_existed_rule, next_step = check_endpoint_status_step)\n",
    "\n",
    "    check_endpoint_existence_step.default_choice(next_step = endpoint_creation_step)\n",
    "    return check_endpoint_existence_step"
   ]
  },
  {
   "cell_type": "code",
   "execution_count": 31,
   "metadata": {},
   "outputs": [],
   "source": [
    "def create_check_endpoint_is_deploying_choice_step(\n",
    "    query_endpoint_deployment_lambda_step,\n",
    "    success_notification_step\n",
    "):\n",
    "    # check endpoint readiness\n",
    "    deployed_endpoint_updating_step = Choice('Endpoint is deploying?')\n",
    "\n",
    "    wait_deployment_step = Wait(state_id = \"Wait Until Deployment is Completed...\", seconds = 20)\n",
    "    wait_deployment_step.next(query_endpoint_deployment_lambda_step)\n",
    "\n",
    "    deployed_endpoint_updating_rule = ChoiceRule.StringEquals(variable = query_endpoint_deployment_lambda_step.output()['Payload']['endpoint_status'], value = 'InService')\n",
    "    deployed_endpoint_updating_step.add_choice(rule = deployed_endpoint_updating_rule, next_step = success_notification_step)\n",
    "    \n",
    "    deployed_endpoint_updating_step.default_choice(next_step = wait_deployment_step)\n",
    "\n",
    "    return deployed_endpoint_updating_step\n"
   ]
  },
  {
   "cell_type": "code",
   "execution_count": 32,
   "metadata": {},
   "outputs": [],
   "source": [
    "def create_success_notification_step(topic_arn, subject):\n",
    "    success_sns_step = SnsPublishStep(\n",
    "        state_id = 'SNS Notification - Pipeline Succeeded',\n",
    "        parameters = {\n",
    "            'TopicArn': topic_arn,\n",
    "            'Message.$': \"$$.Execution.Id\",\n",
    "            'Subject': subject\n",
    "        }\n",
    "    )    \n",
    "    return success_sns_step "
   ]
  },
  {
   "cell_type": "code",
   "execution_count": 33,
   "metadata": {},
   "outputs": [],
   "source": [
    "def create_failure_notification_step(\n",
    "    topic_arn\n",
    "):\n",
    "    failure_sns_step = SnsPublishStep(\n",
    "        state_id = 'SNS Notification - Pipeline Failure',\n",
    "        parameters = {\n",
    "            'TopicArn': topic_arn,\n",
    "            'Message.$': \"$\",\n",
    "            'Subject': '[ML Pipeline] Execution failed...'\n",
    "        }\n",
    "    )    \n",
    "    return failure_sns_step"
   ]
  },
  {
   "cell_type": "code",
   "execution_count": 34,
   "metadata": {},
   "outputs": [],
   "source": [
    "def get_state_machine_arn(workflow_name, region, account_id):\n",
    "    return f\"arn:aws:states:{region}:{account_id}:stateMachine:{workflow_name}\"\n",
    "\n",
    "def is_workflow_existed(workflow_role_arn):\n",
    "    try:\n",
    "        sfn_client = boto3.client('stepfunctions')\n",
    "        response = sfn_client.describe_state_machine(\n",
    "            stateMachineArn = workflow_role_arn\n",
    "        )\n",
    "        return True\n",
    "    except: \n",
    "        return False"
   ]
  },
  {
   "cell_type": "code",
   "execution_count": 35,
   "metadata": {},
   "outputs": [],
   "source": [
    "def create_workflow(\n",
    "    topic_name,\n",
    "    workflow_name,\n",
    "    region, \n",
    "    account_id,\n",
    "    workflow_execution_role\n",
    "):\n",
    "    # Workflow Execution parameters\n",
    "    execution_input = ExecutionInput(\n",
    "        schema = {\n",
    "            \"EndpointConfigName\": str,\n",
    "            \"DevEndpointName\": str,\n",
    "            \"PrdEndpointName\": str,\n",
    "            \"LambdaFunctionNameOfQueryEndpoint\": str,\n",
    "            \"LambdaFunctionNameOfCreateBlueGreenDeploymentEndpointConfig\": str\n",
    "        }\n",
    "    )\n",
    "\n",
    "    # create the steps\n",
    "    blue_green_endpoint_config_step = create_lambda_create_blue_gree_deployment_endpoint_config_step()\n",
    "    query_endpoint_lambda_step = create_lambda_query_endpoint_step()\n",
    "    endpoint_update_step = create_endpoint_step(execution_input[\"PrdEndpointName\"], execution_input[\"EndpointConfigName\"], True)\n",
    "    endpoint_creation_step = create_endpoint_step(execution_input[\"PrdEndpointName\"], execution_input[\"EndpointConfigName\"], False)\n",
    "    \n",
    "    # create the choice steps\n",
    "    check_endpoint_status_choice_step = create_check_endpoint_status_choice_step(query_endpoint_lambda_step, endpoint_update_step)\n",
    "    check_endpoint_existence_choice_step = create_check_endpoint_existence_choice_step(\n",
    "        query_endpoint_lambda_step,\n",
    "        check_endpoint_status_choice_step,\n",
    "        endpoint_creation_step\n",
    "    )\n",
    "    \n",
    "    \n",
    "    query_endpoint_deployment_lambda_step = create_query_endpoint_deployment_lambda_step()\n",
    "    topic_arn = f\"arn:aws:sns:{region}:{account_id}:{topic_name}\"\n",
    "    success_notification_step = create_success_notification_step(topic_arn, \"[ML Pipeline] Blue/Green Deployment Endpoing is ready.\")\n",
    "    check_endpoint_is_deploying_choice_step = create_check_endpoint_is_deploying_choice_step(\n",
    "        query_endpoint_deployment_lambda_step,\n",
    "        success_notification_step\n",
    "    )\n",
    "    endpoint_creation_step.next(Chain([query_endpoint_deployment_lambda_step, check_endpoint_is_deploying_choice_step]))\n",
    "    endpoint_update_step.next(Chain([query_endpoint_deployment_lambda_step, check_endpoint_is_deploying_choice_step]))\n",
    "    \n",
    "    deployment_path = Chain(\n",
    "        [\n",
    "            blue_green_endpoint_config_step, \n",
    "            query_endpoint_lambda_step,\n",
    "            check_endpoint_existence_choice_step            \n",
    "        ]\n",
    "    )\n",
    "\n",
    "    # catch execution exception\n",
    "    failed_state_sagemaker_pipeline_step_failure = Fail(\n",
    "        \"ML Workflow Failed\", cause = \"SageMakerPipelineStepFailed\"\n",
    "    )\n",
    "    failure_notification_step = create_failure_notification_step(topic_arn)\n",
    "    \n",
    "    catch_state_processing = Catch(\n",
    "        error_equals = [\"States.TaskFailed\"],\n",
    "        next_step = Chain([failure_notification_step, failed_state_sagemaker_pipeline_step_failure])\n",
    "    )\n",
    "    blue_green_endpoint_config_step.add_catch(catch_state_processing)\n",
    "    endpoint_update_step.add_catch(catch_state_processing)\n",
    "    query_endpoint_deployment_lambda_step.add_catch(catch_state_processing)\n",
    "    \n",
    "    # Create Workflow\n",
    "    workflow_arn = get_state_machine_arn(workflow_name, region, account_id)\n",
    "    workflow_existed = is_workflow_existed(workflow_arn)\n",
    "    if workflow_existed:\n",
    "        # To update SFN workflow, need to do 'attach' & 'update' together.\n",
    "        workflow = Workflow.attach(state_machine_arn = workflow_arn)\n",
    "        workflow.update(definition = deployment_path, role = workflow_execution_role) \n",
    "        # Wait for 10s so that the update is completed before executing workflow\n",
    "        time.sleep(10)\n",
    "    else:\n",
    "        workflow = Workflow(\n",
    "            name = workflow_name,\n",
    "            definition = deployment_path,\n",
    "            role = workflow_execution_role\n",
    "        )\n",
    "        workflow.create()\n",
    "    return workflow"
   ]
  },
  {
   "cell_type": "code",
   "execution_count": 46,
   "metadata": {},
   "outputs": [
    {
     "name": "stderr",
     "output_type": "stream",
     "text": [
      "INFO:stepfunctions:Workflow updated successfully on AWS Step Functions. All execute() calls will use the updated definition and role within a few seconds. \n"
     ]
    }
   ],
   "source": [
    "workflow_name = \"directmarketing-prd-deployment\"\n",
    "topic_name = 'dm-mt-notification-topic'\n",
    "\n",
    "ssm = boto3.client('ssm')\n",
    "response = ssm.get_parameter(Name = \"/ml_pipeline/workflow_execution_role\")\n",
    "workflow_execution_role = response['Parameter']['Value']\n",
    "\n",
    "# bucket_name is created in ml_pipeline_dependencies.py, which is imported at the beginning.\n",
    "workflow = create_workflow(\n",
    "    topic_name,\n",
    "    workflow_name,\n",
    "    region, \n",
    "    account_id,\n",
    "    workflow_execution_role\n",
    ")"
   ]
  },
  {
   "cell_type": "markdown",
   "metadata": {},
   "source": [
    "workflow for final green deployment"
   ]
  },
  {
   "cell_type": "code",
   "execution_count": 47,
   "metadata": {},
   "outputs": [
    {
     "name": "stderr",
     "output_type": "stream",
     "text": [
      "INFO:stepfunctions:Workflow execution started successfully on AWS Step Functions.\n"
     ]
    }
   ],
   "source": [
    "# execute workflow\n",
    "suffix = datetime.now().strftime(\"%y%m%d-%H%M\")\n",
    "endpoint_config_name = f\"directmarketing-endpoint-config-{suffix}\"\n",
    "dev_endpoint_name = \"direct-marketing-endpoint-dev\"\n",
    "prd_endpoint_name = \"direct-marketing-endpoint-prd\"\n",
    "\n",
    "execution = workflow.execute(\n",
    "    inputs = {\n",
    "        \"EndpointConfigName\": endpoint_config_name,\n",
    "        \"DevEndpointName\": dev_endpoint_name,\n",
    "        \"PrdEndpointName\": prd_endpoint_name,\n",
    "        \"LambdaFunctionNameOfQueryEndpoint\": \"query_endpoint\",\n",
    "        \"LambdaFunctionNameOfCreateBlueGreenDeploymentEndpointConfig\": \"create_blue_gree_deployment_endpoint_config\"\n",
    "    }\n",
    ")"
   ]
  },
  {
   "cell_type": "code",
   "execution_count": null,
   "metadata": {},
   "outputs": [],
   "source": []
  }
 ],
 "metadata": {
  "kernelspec": {
   "display_name": "conda_python3",
   "language": "python",
   "name": "conda_python3"
  },
  "language_info": {
   "codemirror_mode": {
    "name": "ipython",
    "version": 3
   },
   "file_extension": ".py",
   "mimetype": "text/x-python",
   "name": "python",
   "nbconvert_exporter": "python",
   "pygments_lexer": "ipython3",
   "version": "3.6.10"
  }
 },
 "nbformat": 4,
 "nbformat_minor": 4
}
